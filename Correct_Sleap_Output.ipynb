{
 "cells": [
  {
   "cell_type": "code",
   "execution_count": 1,
   "metadata": {},
   "outputs": [
    {
     "data": {
      "application/javascript": [
       "IPython.notebook.set_autosave_interval(180000)"
      ]
     },
     "metadata": {},
     "output_type": "display_data"
    },
    {
     "name": "stdout",
     "output_type": "stream",
     "text": [
      "Autosaving every 180 seconds\n"
     ]
    },
    {
     "data": {
      "text/html": [
       "<style>.container { width:100% !important; }</style>"
      ],
      "text/plain": [
       "<IPython.core.display.HTML object>"
      ]
     },
     "metadata": {},
     "output_type": "display_data"
    }
   ],
   "source": [
    "import matplotlib\n",
    "#matplotlib.use('Agg')\n",
    "%matplotlib tk\n",
    "%autosave 180\n",
    "import matplotlib.pyplot as plt\n",
    "from IPython.core.display import display, HTML\n",
    "display(HTML(\"<style>.container { width:100% !important; }</style>\"))\n",
    "\n",
    "%load_ext autoreload\n",
    "%autoreload 2\n",
    "\n",
    "\n",
    "import matplotlib.cm as cm\n",
    "from matplotlib import gridspec\n",
    "\n",
    "import scipy\n",
    "import scipy.spatial\n",
    "from scipy import signal\n",
    "from scipy import ndimage\n",
    "from scipy.optimize import linear_sum_assignment\n",
    "\n",
    "import numpy as np\n",
    "import os\n",
    "import cv2\n",
    "from tqdm import trange\n",
    "\n",
    "import h5py\n",
    "\n",
    "import sleap"
   ]
  },
  {
   "cell_type": "code",
   "execution_count": 2,
   "metadata": {},
   "outputs": [],
   "source": [
    "# import functions\n",
    "\n",
    "from sleap_correct_utility import Visualize, Track, Predict"
   ]
  },
  {
   "cell_type": "code",
   "execution_count": 22,
   "metadata": {},
   "outputs": [],
   "source": [
    "#############################################  \n",
    "############ LOAD TRACK DATA ################\n",
    "#############################################\n",
    "fname_slp = '/media/cat/7e3d5af3-7d7b-424d-bdd5-eb995a4a0c62/dan/cohort1/march_16/2020_3_16_08_59_17_534732_compressed/2020_3_16_08_59_17_534732_compressed.slp'\n",
    "track = Track(fname_slp)\n",
    "\n",
    "# \n",
    "track.load_tracks()\n",
    "\n",
    "#\n",
    "track.get_scores()\n",
    "\n",
    "#track.plot_scores_distribution()\n",
    "\n"
   ]
  },
  {
   "cell_type": "code",
   "execution_count": 48,
   "metadata": {},
   "outputs": [
    {
     "name": "stderr",
     "output_type": "stream",
     "text": [
      "/home/cat/code/dlc_toolbox/sleap_correct_utility.py:501: RuntimeWarning: Mean of empty slice\n",
      "  axis=2)\n"
     ]
    }
   ],
   "source": [
    "##############################################\n",
    "### MAKE SPATIO-TEMP CONTINUOUS TRACKS #######\n",
    "##############################################\n",
    "# function that joins predictions by time and breaks them by space as required;\n",
    "from sleap_correct_utility import Track\n",
    "fname_slp = '/media/cat/7e3d5af3-7d7b-424d-bdd5-eb995a4a0c62/dan/cohort1/march_16/2020_3_16_08_59_17_534732_compressed/2020_3_16_08_59_17_534732_compressed.slp'\n",
    "track = Track(fname_slp)\n",
    "\n",
    "# \n",
    "track.load_tracks()\n",
    "track.get_scores()\n",
    "\n",
    "#\n",
    "track.make_tracks_chunks()\n",
    "\n",
    "\n",
    "#\n",
    "vis = Visualize(track.tracks_spine)\n",
    "# start = 850\n",
    "# end = 1050\n",
    "\n",
    "# start = 57800\n",
    "# end = 58000\n",
    "\n",
    "start = 3\n",
    "end = 2000\n",
    "\n",
    "vis.show_track_centers(track.tracks_spine,\n",
    "                       start,\n",
    "                       end)\n",
    "\n",
    "# vis.show_track_distances(track.tracks_spine,\n",
    "#                        start,\n",
    "#                        end)\n",
    "\n",
    "plt.show()\n"
   ]
  },
  {
   "cell_type": "code",
   "execution_count": null,
   "metadata": {},
   "outputs": [],
   "source": []
  },
  {
   "cell_type": "code",
   "execution_count": 65,
   "metadata": {},
   "outputs": [
    {
     "name": "stdout",
     "output_type": "stream",
     "text": [
      "(89989, 4)\n",
      "(89989, 4) (89989, 4)\n"
     ]
    },
    {
     "name": "stderr",
     "output_type": "stream",
     "text": [
      "100%|██████████| 1500/1500 [00:30<00:00, 49.36it/s]\n"
     ]
    }
   ],
   "source": [
    "##############################################\n",
    "### MAKE SPATIO-TEMP CONTINUOUS TRACKS #######\n",
    "##############################################\n",
    "print (track.scores.shape)\n",
    "from sleap_correct_utility import Visualize\n",
    "\n",
    "fname_video = '/media/cat/7e3d5af3-7d7b-424d-bdd5-eb995a4a0c62/dan/cohort1/march_16/2020_3_16_08_59_17_534732_compressed/2020_3_16_08_59_17_534732_compressed.avi'\n",
    "fps=2\n",
    "vis = Visualize(p)\n",
    "\n",
    "# vis.make_video_centroid_scores(p.tracks_fixed,\n",
    "#                                track.scores,\n",
    "#                                fname_video,\n",
    "#                                start,\n",
    "#                                end,\n",
    "#                                fps)\n",
    "\n",
    "print (track.scores.shape, track.tracks_scores_mean.shape)\n",
    "\n",
    "start = 700\n",
    "end = 1150\n",
    "start = int(8*60+30)*25\n",
    "end = int(9*60+30)*25\n",
    "\n",
    "vis.make_video_centroid_scores(track.tracks_spine,                # track locations\n",
    "                               track.tracks_scores_mean,     # track confidence\n",
    "                               track.scores,\n",
    "                               fname_video,\n",
    "                               start,\n",
    "                               end,\n",
    "                               fps) \n"
   ]
  },
  {
   "cell_type": "code",
   "execution_count": 108,
   "metadata": {},
   "outputs": [],
   "source": [
    "# ##############################################\n",
    "# ### MAKE SPATIO-TEMP CONTINUOUS TRACKS #######\n",
    "# ##############################################\n",
    "\n",
    "\n",
    "# animal_id = 3\n",
    "# for c in range(len(track.tracks_chunks[animal_id])):\n",
    "#     chunk = track.tracks_chunks[animal_id][c]\n",
    "#     print ('chunk: ', c, \" \", chunk[0], chunk[1],\n",
    "#            \" conf: \", track.tracks_spine_confidence[chunk[0]:chunk[1]+1,animal_id])\n",
    "#     #print "
   ]
  },
  {
   "cell_type": "code",
   "execution_count": 28,
   "metadata": {},
   "outputs": [
    {
     "name": "stderr",
     "output_type": "stream",
     "text": [
      " 17%|█▋        | 330/1997 [00:00<00:00, 3294.93it/s]"
     ]
    },
    {
     "name": "stdout",
     "output_type": "stream",
     "text": [
      "input into Predict:  (89989, 4, 2)\n"
     ]
    },
    {
     "name": "stderr",
     "output_type": "stream",
     "text": [
      "100%|█████████▉| 1996/1997 [00:00<00:00, 3020.29it/s]\n"
     ]
    }
   ],
   "source": [
    "########################################################\n",
    "####### RUN SINGLE FRAME MEMORY-BASED CORRECTION #######\n",
    "########################################################\n",
    "# initialize prediction \n",
    "verbose=False\n",
    "p = Predict(track.tracks_spine,\n",
    "            verbose)\n",
    "\n",
    "# select start and ends\n",
    "start = 57800\n",
    "end = 58200\n",
    "\n",
    "# get positions at time t\n",
    "p.time = start\n",
    "p.dynamics_off_flag=True  # don't take accel and ve into account\n",
    "\n",
    "# optional\n",
    "# p.delete_short_segs()\n",
    "\n",
    "#\n",
    "p.get_positions()\n",
    "for t in trange(end-start):\n",
    "    p.compute_vel_acceleration()\n",
    "    p.predict_location_single_frame()\n",
    "    p.compute_distances()\n",
    "    p.update_positions()\n",
    "    p.time+=1\n",
    "    if p.time>=end:\n",
    "        break\n"
   ]
  },
  {
   "cell_type": "code",
   "execution_count": 38,
   "metadata": {},
   "outputs": [
    {
     "name": "stdout",
     "output_type": "stream",
     "text": [
      "input into Predict:  (89989, 4, 2)\n",
      "# of chunks in track  3 5341\n",
      "(89989, 4)\n"
     ]
    }
   ],
   "source": [
    "#################################################################\n",
    "####### RUN SPATIO-TEMPORAL TRACK MEMORY-BASED CORRECTION #######\n",
    "#######       ALSO INCORPORATING CONFIDENCE VALUES        #######\n",
    "#################################################################\n",
    "# initialize prediction \n",
    "verbose=False\n",
    "p = Predict(track.tracks_spine,\n",
    "            verbose)\n",
    "\n",
    "# select start and ends\n",
    "start = 57800\n",
    "end = 58200\n",
    "\n",
    "# get positions at time t\n",
    "p.time = start\n",
    "p.dynamics_off_flag=True  # don't take accel and ve into account\n",
    "\n",
    "# optional\n",
    "# p.delete_short_segs()\n",
    "\n",
    "\n",
    "track_selected = 3\n",
    "print (\"# of chunks in track \",track_selected, len(track.tracks_chunks[track_selected]))\n",
    "print (track.tracks_spine_confidence.shape)\n",
    "\n",
    "\n",
    "#\n",
    "#p.get_chunk()\n",
    "#for t in trange(end-start):\n",
    "#    p.compute_vel_acceleration()\n",
    "#    p.predict_location_single_frame()\n",
    "#    p.compute_distances()\n",
    "#    p.update_positions()\n",
    "#    p.time+=1\n",
    "#    if p.time>=end:\n",
    "#        break\n",
    "\n"
   ]
  },
  {
   "cell_type": "code",
   "execution_count": 90,
   "metadata": {},
   "outputs": [
    {
     "name": "stdout",
     "output_type": "stream",
     "text": [
      "[[0, 3], [5, 8], [10, 44], [46, 134], [136, 139]]\n",
      "looking to match end point:  [328.86740112 718.14868164]\n",
      "nearest animal:  0   nearest time  5  locs:  [326.90576172 716.09124756]   dist:  2.842721258652345\n",
      "nearest animal:  1   nearest time  379  locs:  [292.45251465 644.90118408]   dist:  81.79999911708366\n",
      "nearest animal:  2   nearest time  524  locs:  [1208.64819336  413.27355957]   dist:  931.1085234522177\n",
      "nearest animal:  3   nearest time  135  locs:  [467.96578979 602.26135254]   dist:  181.04760362237843\n",
      "looking to match end point:  [331.67681885 718.22320557]\n",
      "nearest animal:  0   nearest time  10  locs:  [334.11309814 717.09161377]   dist:  2.6862533028619127\n",
      "nearest animal:  1   nearest time  379  locs:  [292.45251465 644.90118408]   dist:  83.15446394793246\n",
      "nearest animal:  2   nearest time  524  locs:  [1208.64819336  413.27355957]   dist:  928.4789056872085\n",
      "nearest animal:  3   nearest time  135  locs:  [467.96578979 602.26135254]   dist:  178.9464583594766\n",
      "looking to match end point:  [338.46774292 716.60852051]\n",
      "nearest animal:  0   nearest time  46  locs:  [340.16714478 716.64068604]   dist:  1.699706235653659\n",
      "nearest animal:  1   nearest time  379  locs:  [292.45251465 644.90118408]   dist:  85.20178008795936\n",
      "nearest animal:  2   nearest time  524  locs:  [1208.64819336  413.27355957]   dist:  921.534652009334\n",
      "nearest animal:  3   nearest time  135  locs:  [467.96578979 602.26135254]   dist:  172.7571097434581\n",
      "looking to match end point:  [338.43157959 712.87670898]\n",
      "nearest animal:  0   nearest time  136  locs:  [336.39471436 713.97955322]   dist:  2.316265398635414\n",
      "nearest animal:  1   nearest time  379  locs:  [292.45251465 644.90118408]   dist:  82.06550066035794\n",
      "nearest animal:  2   nearest time  524  locs:  [1208.64819336  413.27355957]   dist:  920.347218184167\n",
      "nearest animal:  3   nearest time  135  locs:  [467.96578979 602.26135254]   dist:  170.33751405658387\n",
      "looking to match end point:  [332.33178711 711.87719727]\n",
      "nearest animal:  0   nearest time  149  locs:  [332.21832275 716.45422363]   dist:  4.578432540279647\n",
      "nearest animal:  1   nearest time  379  locs:  [292.45251465 644.90118408]   dist:  77.94961650952885\n",
      "nearest animal:  2   nearest time  524  locs:  [1208.64819336  413.27355957]   dist:  925.7940247742953\n",
      "nearest animal:  3   nearest time  140  locs:  [454.68771362 675.95129395]   dist:  127.5211483731209\n",
      "looking to match end point:  [362.24188232 729.18377686]\n",
      "nearest animal:  0   nearest time  422  locs:  [364.64703369 732.94165039]   dist:  4.461655141907724\n",
      "nearest animal:  1   nearest time  474  locs:  [240.36428833 644.2532959 ]   dist:  148.55078092488517\n",
      "nearest animal:  2   nearest time  524  locs:  [1208.64819336  413.27355957]   dist:  903.4394881480974\n",
      "nearest animal:  3   nearest time  423  locs:  [612.99554443 716.83233643]   dist:  251.05767692295476\n",
      "looking to match end point:  [364.64703369 732.94165039]\n",
      "nearest animal:  0   nearest time  424  locs:  [363.85949707 732.3425293 ]   dist:  0.9895251459866783\n",
      "nearest animal:  1   nearest time  474  locs:  [240.36428833 644.2532959 ]   dist:  152.68210444279526\n",
      "nearest animal:  2   nearest time  524  locs:  [1208.64819336  413.27355957]   dist:  902.5107455369048\n",
      "nearest animal:  3   nearest time  423  locs:  [612.99554443 716.83233643]   dist:  248.87043372863786\n",
      "looking to match end point:  [362.87615967 733.03723145]\n",
      "nearest animal:  0   nearest time  428  locs:  [362.9760437 734.4934082]   dist:  1.459598427678739\n",
      "nearest animal:  1   nearest time  474  locs:  [240.36428833 644.2532959 ]   dist:  151.30018450056008\n",
      "nearest animal:  2   nearest time  524  locs:  [1208.64819336  413.27355957]   dist:  904.2008288126482\n",
      "nearest animal:  3   nearest time  433  locs:  [620.29602051 686.25415039]   dist:  261.6364680769368\n",
      "looking to match end point:  [366.87677002 734.72644043]\n",
      "nearest animal:  0   nearest time  454  locs:  [365.99279785 734.60943604]   dist:  0.8916820184813622\n",
      "nearest animal:  1   nearest time  474  locs:  [240.36428833 644.2532959 ]   dist:  155.53391239403922\n",
      "nearest animal:  2   nearest time  524  locs:  [1208.64819336  413.27355957]   dist:  901.0610876984856\n",
      "nearest animal:  3   nearest time  456  locs:  [316.50769043 624.20361328]   dist:  121.4592092005024\n",
      "looking to match end point:  [365.99279785 734.60943604]\n",
      "nearest animal:  0   nearest time  456  locs:  [370.43133545 734.609375  ]   dist:  4.438537598075903\n",
      "nearest animal:  1   nearest time  474  locs:  [240.36428833 644.2532959 ]   dist:  154.74738920251949\n",
      "nearest animal:  2   nearest time  524  locs:  [1208.64819336  413.27355957]   dist:  901.8452534009685\n",
      "nearest animal:  3   nearest time  456  locs:  [316.50769043 624.20361328]   dist:  120.98851827558461\n",
      "looking to match end point:  [368.45831299 734.75335693]\n",
      "nearest animal:  0   nearest time  467  locs:  [370.21350098 736.4831543 ]   dist:  2.4643221770339903\n",
      "nearest animal:  1   nearest time  474  locs:  [240.36428833 644.2532959 ]   dist:  156.83858007678901\n",
      "nearest animal:  2   nearest time  524  locs:  [1208.64819336  413.27355957]   dist:  899.5934054842384\n",
      "nearest animal:  3   nearest time  460  locs:  [316.24365234 620.67352295]   dist:  125.46146543112798\n",
      "looking to match end point:  [370.21350098 736.4831543 ]\n",
      "nearest animal:  0   nearest time  478  locs:  [366.67791748 736.62536621]   dist:  3.538442437902844\n",
      "nearest animal:  1   nearest time  474  locs:  [240.36428833 644.2532959 ]   dist:  159.27072802341223\n",
      "nearest animal:  2   nearest time  524  locs:  [1208.64819336  413.27355957]   dist:  898.575080621742\n",
      "nearest animal:  3   nearest time  483  locs:  [613.19927979 716.97619629]   dist:  243.76753293647906\n",
      "looking to match end point:  [366.67791748 736.62536621]\n",
      "nearest animal:  0   nearest time  480  locs:  [366.75305176 736.46624756]   dist:  0.17596563629202924\n",
      "nearest animal:  1   nearest time  481  locs:  [249.89718628 640.98034668]   dist:  150.94935886254552\n",
      "nearest animal:  2   nearest time  524  locs:  [1208.64819336  413.27355957]   dist:  901.9259040083933\n",
      "nearest animal:  3   nearest time  483  locs:  [613.19927979 716.97619629]   dist:  247.30319842488433\n",
      "looking to match end point:  [366.75305176 736.46624756]\n",
      "nearest animal:  0   nearest time  483  locs:  [366.70861816 736.60241699]   dist:  0.1432356760684388\n",
      "nearest animal:  1   nearest time  481  locs:  [249.89718628 640.98034668]   dist:  150.9067611586348\n",
      "nearest animal:  2   nearest time  524  locs:  [1208.64819336  413.27355957]   dist:  901.7987264469858\n",
      "nearest animal:  3   nearest time  483  locs:  [613.19927979 716.97619629]   dist:  247.21570623120707\n",
      "looking to match end point:  [366.70861816 736.60241699]\n",
      "nearest animal:  0   nearest time  485  locs:  [366.66955566 736.32489014]   dist:  0.2802624384619217\n",
      "nearest animal:  1   nearest time  498  locs:  [232.79066467 707.82580566]   dist:  136.97485764476673\n",
      "nearest animal:  2   nearest time  524  locs:  [1208.64819336  413.27355957]   dist:  901.889016632201\n",
      "nearest animal:  3   nearest time  485  locs:  [326.52401733 628.4654541 ]   dist:  115.36205999842896\n",
      "looking to match end point:  [366.66955566 736.32489014]\n",
      "nearest animal:  0   nearest time  488  locs:  [364.92449951 734.78393555]   dist:  2.328038234822034\n",
      "nearest animal:  1   nearest time  498  locs:  [232.79066467 707.82580566]   dist:  136.87861508948774\n",
      "nearest animal:  2   nearest time  524  locs:  [1208.64819336  413.27355957]   dist:  901.8260300723082\n",
      "nearest animal:  3   nearest time  580  locs:  [622.24145508 684.28527832]   dist:  260.8162513497077\n",
      "looking to match end point:  [364.92449951 734.78393555]\n",
      "nearest animal:  0   nearest time  490  locs:  [362.7666626  734.43292236]   dist:  2.186199991480055\n",
      "nearest animal:  1   nearest time  498  locs:  [232.79066467 707.82580566]   dist:  134.85581587756465\n",
      "nearest animal:  2   nearest time  524  locs:  [1208.64819336  413.27355957]   dist:  902.9056392672072\n",
      "nearest animal:  3   nearest time  580  locs:  [622.24145508 684.28527832]   dist:  262.22534203171466\n",
      "looking to match end point:  [363.96514893 736.22711182]\n",
      "nearest animal:  0   nearest time  493  locs:  [361.85418701 732.43255615]   dist:  4.342212902460129\n",
      "nearest animal:  1   nearest time  498  locs:  [232.79066467 707.82580566]   dist:  134.21393187810742\n",
      "nearest animal:  2   nearest time  524  locs:  [1208.64819336  413.27355957]   dist:  904.3165609796024\n",
      "nearest animal:  3   nearest time  580  locs:  [622.24145508 684.28527832]   dist:  263.4475363077725\n",
      "looking to match end point:  [362.28091431 732.59448242]\n",
      "nearest animal:  0   nearest time  501  locs:  [367.94354248 732.86633301]   dist:  5.66914989889195\n",
      "nearest animal:  1   nearest time  504  locs:  [240.54017639 690.30603027]   dist:  128.8763766297335\n",
      "nearest animal:  2   nearest time  524  locs:  [1208.64819336  413.27355957]   dist:  904.6012507297912\n",
      "nearest animal:  3   nearest time  580  locs:  [622.24145508 684.28527832]   dist:  264.4111608066668\n",
      "looking to match end point:  [365.99429321 730.98297119]\n",
      "nearest animal:  0   nearest time  507  locs:  [328.25250244 720.5880127 ]   dist:  39.14713185884778\n",
      "nearest animal:  1   nearest time  504  locs:  [240.54017639 690.30603027]   dist:  131.88384643258462\n",
      "nearest animal:  2   nearest time  524  locs:  [1208.64819336  413.27355957]   dist:  900.5580856694935\n",
      "nearest animal:  3   nearest time  580  locs:  [622.24145508 684.28527832]   dist:  260.4674307537713\n"
     ]
    }
   ],
   "source": [
    "print (track.tracks_chunks[animal_id][:5])\n",
    "# loop over animal id\n",
    "animal_id1 = 0\n",
    "#for k in range(0,len(track.tracks_chunks[animal_id1])-1,1):\n",
    "for k in range(0,20,1):\n",
    "    # \n",
    "    times1 = track.tracks_chunks[animal_id1][k]\n",
    "    #print (times)\n",
    "    \n",
    "    locs1 = track.tracks_spine[times1[1], animal_id1]\n",
    "    #print (locs)\n",
    "    \n",
    "    #\n",
    "    print ('looking to match end point: ', locs1)\n",
    "    \n",
    "    # search in time and spacefor nearest chunk \n",
    "    for animal_id2 in range(4):\n",
    "        times2 = track.tracks_chunks[animal_id2]\n",
    "        for time2 in times2:\n",
    "            #print (p, time)\n",
    "            if time2[0]>times1[1]:\n",
    "                locs2 = track.tracks_spine[time2[0], animal_id2]\n",
    "                \n",
    "                dist = np.linalg.norm(locs1-locs2)\n",
    "                \n",
    "                print (\"nearest animal: \", animal_id2, \"  nearest time \", time2[0],\n",
    "                      \" locs: \", locs2, \"  dist: \", dist)\n",
    "                \n",
    "                break\n",
    "        \n",
    "    \n",
    "    \n",
    "    \n",
    "#     self.pos_read = self.tracks[self.time + 1]\n",
    "\n",
    "#     if self.verbose:\n",
    "#         print(\"self.pos_read at t+1:\", self.pos_read)\n",
    "\n",
    "#     # compute pairwise dist between predicted and read\n",
    "#     cost = scipy.spatial.distance.cdist(self.pos_pred, self.pos_read)\n",
    "#     if self.verbose:\n",
    "#         print(\"Cost: \", cost)\n",
    "\n",
    "#     # NEED TO SPEED THIS UP\n",
    "#     idx = np.where(np.isnan(cost))\n",
    "#     cost[idx] = 1E4\n",
    "\n",
    "#     #\n",
    "#     _, assignment = linear_sum_assignment(cost)\n",
    "#     self.assignment = assignment\n",
    "\n",
    "#     #\n",
    "#     if self.verbose:\n",
    "#         print(\"assignemnt: \", assignment)\n",
    "#         print(\"costs: \", cost[_, assignment])\n",
    "            \n"
   ]
  },
  {
   "cell_type": "code",
   "execution_count": null,
   "metadata": {},
   "outputs": [],
   "source": []
  },
  {
   "cell_type": "code",
   "execution_count": 30,
   "metadata": {},
   "outputs": [
    {
     "name": "stdout",
     "output_type": "stream",
     "text": [
      "(89989, 4, 2)\n"
     ]
    }
   ],
   "source": [
    "print (track.tracks_spine.shape)"
   ]
  },
  {
   "cell_type": "code",
   "execution_count": 12,
   "metadata": {},
   "outputs": [],
   "source": [
    "#################################  \n",
    "####### VISUALIZE RESULTS #######\n",
    "#################################\n",
    "vis = Visualize(p.tracks)\n",
    "\n",
    "#\n",
    "ax=plt.subplot(2,1,1)\n",
    "vis.show_track_centers(p.tracks,\n",
    "                       start,\n",
    "                       end)\n",
    "plt.title(\"Pre-correction\")\n",
    "\n",
    "# visualize post-prediction\n",
    "ax=plt.subplot(2,1,2)\n",
    "vis.show_track_centers(p.tracks_fixed,\n",
    "                       start,\n",
    "                       end)\n",
    "plt.title(\"Post-correction\")\n",
    "plt.show()\n",
    "\n"
   ]
  },
  {
   "cell_type": "code",
   "execution_count": 17,
   "metadata": {},
   "outputs": [
    {
     "name": "stderr",
     "output_type": "stream",
     "text": [
      "\r",
      "  0%|          | 0/400 [00:00<?, ?it/s]"
     ]
    },
    {
     "name": "stdout",
     "output_type": "stream",
     "text": [
      "(89989, 4)\n",
      "(89989, 4)\n"
     ]
    },
    {
     "name": "stderr",
     "output_type": "stream",
     "text": [
      "100%|██████████| 400/400 [00:07<00:00, 50.29it/s]\n"
     ]
    }
   ],
   "source": [
    "################################  \n",
    "####### VISUALIZE SCORES #######\n",
    "################################\n",
    "print (track.scores.shape)\n",
    "from sleap_correct_utility import Visualize\n",
    "\n",
    "fname_video = '/media/cat/7e3d5af3-7d7b-424d-bdd5-eb995a4a0c62/dan/cohort1/march_16/2020_3_16_08_59_17_534732_compressed/2020_3_16_08_59_17_534732_compressed.avi'\n",
    "fps=1\n",
    "vis = Visualize(p)\n",
    "\n",
    "# vis.make_video_centroid_scores(p.tracks_fixed,\n",
    "#                                track.scores,\n",
    "#                                fname_video,\n",
    "#                                start,\n",
    "#                                end,\n",
    "#                                fps) \n",
    "\n",
    "vis.make_video_centroid_scores(track.tracks_spine,\n",
    "                               track.scores,\n",
    "                               fname_video,\n",
    "                               start,\n",
    "                               end,\n",
    "                               fps) \n"
   ]
  },
  {
   "cell_type": "code",
   "execution_count": 5,
   "metadata": {},
   "outputs": [
    {
     "name": "stdout",
     "output_type": "stream",
     "text": [
      "(89989, 4)\n",
      "(89989, 4, 14, 2)\n",
      "0.9999987\n"
     ]
    }
   ],
   "source": [
    "print (track.scores.shape)\n",
    "print (track.tracks.shape)\n",
    "print (track.scores[0][0])\n",
    "track.load_slp()"
   ]
  },
  {
   "cell_type": "code",
   "execution_count": 6,
   "metadata": {},
   "outputs": [
    {
     "name": "stdout",
     "output_type": "stream",
     "text": [
      "PredictedInstance(video=Video(filename=/media/cat/7e3d5af3-7d7b-424d-bdd5-eb995a4a0c62/dan/cohort1/march_16/2020_3_16_08_59_17_534732_compressed/2020_3_16_08_59_17_534732_compressed.avi, shape=(89989, 1024, 1280, 3), backend=MediaVideo), frame_idx=0, points=[nose: (406.8, 720.7, 0.91), lefteye: (386.4, 708.7, 1.02), righteye: (382.2, 740.3, 0.26), leftear: (361.9, 712.7, 1.00), rightear: (354.5, 747.9, 0.80), spine1: (354.8, 729.2, 0.86), spine2: (325.9, 716.5, 1.01), spine3: (302.3, 700.5, 1.04), spine4: (290.3, 676.4, 0.87)], score=1.00, track=Track(spawned_on=0, name='female'), tracking_score=0.00)\n"
     ]
    }
   ],
   "source": [
    "print (track.slp[0][0])"
   ]
  },
  {
   "cell_type": "code",
   "execution_count": 43,
   "metadata": {},
   "outputs": [
    {
     "name": "stderr",
     "output_type": "stream",
     "text": [
      "  2%|▏         | 6/400 [00:00<00:07, 53.23it/s]"
     ]
    },
    {
     "name": "stdout",
     "output_type": "stream",
     "text": [
      "Histories:  (4, 5, 2)\n"
     ]
    },
    {
     "name": "stderr",
     "output_type": "stream",
     "text": [
      "100%|██████████| 400/400 [00:08<00:00, 49.97it/s]\n"
     ]
    }
   ],
   "source": [
    "###########################  \n",
    "####### MAKE VIDEOS #######\n",
    "###########################\n",
    "fname_video = '/media/cat/7e3d5af3-7d7b-424d-bdd5-eb995a4a0c62/dan/cohort1/march_16/2020_3_16_08_59_17_534732_compressed/2020_3_16_08_59_17_534732_compressed.avi'\n",
    "fps=5\n",
    "vis = Visualize(p)\n",
    "\n",
    "vis.make_video_centroid(p.tracks_fixed,\n",
    "                        fname_video,\n",
    "                        start,\n",
    "                        end,\n",
    "                        fps)                        \n"
   ]
  },
  {
   "cell_type": "code",
   "execution_count": 49,
   "metadata": {},
   "outputs": [],
   "source": [
    "\n"
   ]
  },
  {
   "cell_type": "code",
   "execution_count": 50,
   "metadata": {},
   "outputs": [
    {
     "name": "stderr",
     "output_type": "stream",
     "text": [
      "/home/cat/miniconda3/envs/sleap2/lib/python3.6/site-packages/ipykernel_launcher.py:72: RuntimeWarning: Mean of empty slice\n"
     ]
    }
   ],
   "source": [
    "fname_slp = '/media/cat/7e3d5af3-7d7b-424d-bdd5-eb995a4a0c62/dan/cohort1/march_16/2020_3_16_08_59_17_534732_compressed/2020_3_16_08_59_17_534732_compressed.slp'\n",
    "track = Tracker(fname_slp)\n",
    "\n",
    "# \n",
    "track.load_tracks()\n",
    "track.get_scores()\n",
    "track.show_scores()"
   ]
  },
  {
   "cell_type": "code",
   "execution_count": 51,
   "metadata": {},
   "outputs": [
    {
     "name": "stdout",
     "output_type": "stream",
     "text": [
      "....loading slp file ...\n"
     ]
    },
    {
     "name": "stderr",
     "output_type": "stream",
     "text": [
      "100%|██████████| 89989/89989 [00:01<00:00, 82188.05it/s]\n"
     ]
    }
   ],
   "source": []
  },
  {
   "cell_type": "code",
   "execution_count": 52,
   "metadata": {},
   "outputs": [],
   "source": []
  },
  {
   "cell_type": "code",
   "execution_count": null,
   "metadata": {},
   "outputs": [],
   "source": []
  },
  {
   "cell_type": "code",
   "execution_count": null,
   "metadata": {},
   "outputs": [],
   "source": []
  },
  {
   "cell_type": "code",
   "execution_count": null,
   "metadata": {},
   "outputs": [],
   "source": []
  },
  {
   "cell_type": "code",
   "execution_count": 523,
   "metadata": {
    "scrolled": true
   },
   "outputs": [
    {
     "name": "stderr",
     "output_type": "stream",
     "text": [
      "100%|██████████| 50/50 [00:07<00:00,  6.32it/s]\n"
     ]
    }
   ],
   "source": [
    "# FUNCTION TO TRY AND MASK OUT BLOCKS; \n",
    "# MOSTLY FAILED\n",
    "\n",
    "\n",
    "class Video():\n",
    "    \n",
    "    def __init__(self, fname):\n",
    "        \n",
    "        self.fname = fname\n",
    "        \n",
    "        \n",
    "    def init_vid(self, n):\n",
    "        \n",
    "        self.font = cv2.FONT_HERSHEY_PLAIN\n",
    "\n",
    "        # load original vid\n",
    "        self.original_vid = cv2.VideoCapture(self.fname)\n",
    "        self.original_vid.set(cv2.CAP_PROP_POS_FRAMES, n)\n",
    "        \n",
    "    def init_save_vid(self, start, end):\n",
    "\n",
    "        fps = 25\n",
    "        size_vid = np.array([1280,1024])\n",
    "        \n",
    "        fname_out = self.fname[:-4]+\"_\"+str(start)+\"_\"+str(end)+'.mp4'\n",
    "\n",
    "        fourcc = cv2.VideoWriter_fourcc('M','P','E','G')\n",
    "        self.video_out = cv2.VideoWriter(fname_out,\n",
    "                                         fourcc, \n",
    "                                         fps, \n",
    "                                         (size_vid[0],size_vid[1]), \n",
    "                                         True)\n",
    "        \n",
    "    def save_vid(self, frame, surface, n):\n",
    "\n",
    "        surface = (surface-np.min(surface))/(np.max(surface)-np.min(surface))*255\n",
    "       \n",
    "        self.surface[self.width:-self.width+1, \n",
    "                     self.width//2:-self.width//2+1,1] = surface.astype('uint8')\n",
    "        \n",
    "        frame = cv2.addWeighted(frame,0.0,\n",
    "                                self.surface,1,0)\n",
    "\n",
    "        cv2.putText(frame, str(n), (50, 50), self.font, 5, (255, 255, 0), 5)\n",
    "            \n",
    "            \n",
    "        self.video_out.write(frame)\n",
    "\n",
    "        \n",
    "        \n",
    "        \n",
    "    def grab_frame(self):\n",
    "        ret, frame = self.original_vid.read()\n",
    "        \n",
    "        return frame\n",
    "\n",
    "    def show(self, frame):\n",
    "        \n",
    "        plt.imshow(frame)\n",
    "        plt.show()\n",
    "            \n",
    "    \n",
    "    def fit_mask(self, \n",
    "                frame):\n",
    "        \n",
    "        # print (frame.shape, mask.shape)\n",
    "        \n",
    "        \n",
    "        frame_1d = frame[:,:,1]\n",
    "        \n",
    "        # find max for several rotations\n",
    "        maxval=0\n",
    "        surface = None\n",
    "        for k in range(len(self.masks)):\n",
    "            res = cv2.matchTemplate(frame_1d, \n",
    "                                    self.masks[k], \n",
    "                                    cv2.TM_CCOEFF)\n",
    "\n",
    "            temp_maxval = np.amax(res)\n",
    "            if temp_maxval>maxval:\n",
    "                x,y = np.where(res==temp_maxval)\n",
    "                maxval = temp_maxval\n",
    "                surface=res\n",
    "                #print (\"new max found\",temp_maxval, x,y)\n",
    "\n",
    "        x=int(x+self.width)\n",
    "        y=int(y+self.width)\n",
    "\n",
    "        frame[x-self.width_mask:x+self.width_mask,\n",
    "              y-self.width_mask:y+self.width_mask]=0\n",
    "        \n",
    "        \n",
    "\n",
    "        return frame, x, y, surface\n",
    "   \n",
    "\n",
    "    def make_masks(self, mask):\n",
    "        \n",
    "        masks = []\n",
    "        for k in range(-15,15,10):\n",
    "            masks.append(ndimage.rotate(mask[:,:,1], k, reshape=False))\n",
    "            \n",
    "        self.masks=masks \n",
    "#    \n",
    "fname = '/media/cat/7e3d5af3-7d7b-424d-bdd5-eb995a4a0c62/dan/cohort1/march_16/2020_3_16_08_59_17_534732_compressed/2020_3_16_08_59_17_534732_compressed.avi'\n",
    "vid = Video(fname)\n",
    "\n",
    "# mask size\n",
    "x = 674\n",
    "y = 614\n",
    "\n",
    "\n",
    "# make rotated masks based on frame 0 block location\n",
    "start=0\n",
    "vid.init_vid(start)\n",
    "frame = vid.grab_frame()\n",
    "\n",
    "vid.width=32\n",
    "vid.width_mask=64\n",
    "mask = frame[x-vid.width:x+vid.width,\n",
    "             y-vid.width//2:y+vid.width//2]\n",
    "  \n",
    "vid.make_masks(mask)\n",
    "\n",
    "# restart \n",
    "start = 600\n",
    "end = 650\n",
    "vid.init_vid(start)\n",
    "frame = vid.grab_frame()\n",
    "vid.surface = np.zeros(frame.shape, 'uint8')\n",
    "\n",
    "# initilize save vid\n",
    "vid.init_save_vid(start,end)\n",
    "\n",
    "for n in trange(start,end,1):\n",
    "    \n",
    "    # return masked frame and new x,y locs\n",
    "    frame_masked, x, y, surface = vid.fit_mask(frame)\n",
    "    \n",
    "    # \n",
    "    vid.save_vid(frame_masked, surface, n)\n",
    "    \n",
    "    # \n",
    "    frame = vid.grab_frame()\n",
    "\n",
    "vid.video_out.release()\n",
    "        \n"
   ]
  },
  {
   "cell_type": "code",
   "execution_count": 512,
   "metadata": {},
   "outputs": [
    {
     "name": "stdout",
     "output_type": "stream",
     "text": [
      "(897, 1153)\n",
      "0.0\n"
     ]
    }
   ],
   "source": [
    "print (z.shape)\n",
    "ax=plt.subplot(1,2,1)\n",
    "plt.imshow(surface)\n",
    "\n",
    "\n",
    "ax=plt.subplot(1,2,2)\n",
    "#plt.imshow((surface/np.max(surface)*255).astype('uint8'))\n",
    "print (np.min(surface))\n",
    "\n",
    "plt.show()"
   ]
  },
  {
   "cell_type": "code",
   "execution_count": 366,
   "metadata": {},
   "outputs": [],
   "source": [
    "plt.imshow(mask)\n",
    "plt.show()"
   ]
  },
  {
   "cell_type": "code",
   "execution_count": null,
   "metadata": {},
   "outputs": [],
   "source": []
  },
  {
   "cell_type": "code",
   "execution_count": null,
   "metadata": {},
   "outputs": [],
   "source": []
  },
  {
   "cell_type": "code",
   "execution_count": null,
   "metadata": {},
   "outputs": [],
   "source": []
  },
  {
   "cell_type": "code",
   "execution_count": null,
   "metadata": {},
   "outputs": [],
   "source": []
  }
 ],
 "metadata": {
  "kernelspec": {
   "display_name": "Python 3",
   "language": "python",
   "name": "python3"
  },
  "language_info": {
   "codemirror_mode": {
    "name": "ipython",
    "version": 3
   },
   "file_extension": ".py",
   "mimetype": "text/x-python",
   "name": "python",
   "nbconvert_exporter": "python",
   "pygments_lexer": "ipython3",
   "version": "3.6.12"
  }
 },
 "nbformat": 4,
 "nbformat_minor": 4
}
