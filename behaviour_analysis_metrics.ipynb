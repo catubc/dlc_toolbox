{
 "cells": [
  {
   "cell_type": "code",
   "execution_count": 1,
   "metadata": {},
   "outputs": [
    {
     "data": {
      "application/javascript": [
       "IPython.notebook.set_autosave_interval(180000)"
      ]
     },
     "metadata": {},
     "output_type": "display_data"
    },
    {
     "name": "stdout",
     "output_type": "stream",
     "text": [
      "Autosaving every 180 seconds\n"
     ]
    },
    {
     "data": {
      "text/html": [
       "<style>.container { width:100% !important; }</style>"
      ],
      "text/plain": [
       "<IPython.core.display.HTML object>"
      ]
     },
     "metadata": {},
     "output_type": "display_data"
    }
   ],
   "source": [
    "import matplotlib\n",
    "#matplotlib.use('Agg')\n",
    "%matplotlib tk\n",
    "%autosave 180\n",
    "import matplotlib.pyplot as plt\n",
    "from IPython.core.display import display, HTML\n",
    "display(HTML(\"<style>.container { width:100% !important; }</style>\"))\n",
    "\n",
    "import matplotlib.cm as cm\n",
    "from matplotlib import gridspec\n",
    "from scipy import signal\n",
    "\n",
    "import numpy as np\n",
    "import pandas as pd\n",
    "import os\n",
    "import shutil\n",
    "import cv2\n",
    "from tqdm import trange\n",
    "\n",
    "#import glob2\n",
    "\n",
    "from numba import jit\n",
    "import tables\n",
    "from scipy.io import loadmat\n",
    "import scipy\n",
    "import h5py\n",
    "#import hdf5storage\n",
    "import csv\n"
   ]
  },
  {
   "cell_type": "code",
   "execution_count": 69,
   "metadata": {},
   "outputs": [],
   "source": [
    "fnames = [\n",
    "'/media/cat/4TBSSD/dan/march_2/madeline_dlc/march_16/traces_inferences/am/2020-3-16_12_54_07_193951_compressedDLC_resnet50_madeline_july2Jul2shuffle1_100000_full_traces_inferences.npz',\n",
    "'/media/cat/4TBSSD/dan/march_2/madeline_dlc/march_16/traces_inferences/am/2020-3-16_01_54_23_358257_compressedDLC_resnet50_madeline_july2Jul2shuffle1_100000_full_traces_inferences.npz',\n",
    "'/media/cat/4TBSSD/dan/march_2/madeline_dlc/march_16/traces_inferences/am/2020-3-16_02_54_39_170978_compressedDLC_resnet50_madeline_july2Jul2shuffle1_100000_full_traces_inferences.npz',\n",
    "'/media/cat/4TBSSD/dan/march_2/madeline_dlc/march_16/traces_inferences/am/2020-3-16_03 54 54 231226_compressedDLC_resnet50_madeline_july2Jul2shuffle1_100000_full_traces_inferences.npz',\n",
    "'/media/cat/4TBSSD/dan/march_2/madeline_dlc/march_16/traces_inferences/am/2020-3-16_04_55_09_841582_compressedDLC_resnet50_madeline_july2Jul2shuffle1_100000_full_traces_inferences.npz',\n",
    "'/media/cat/4TBSSD/dan/march_2/madeline_dlc/march_16/traces_inferences/am/2020-3-16_05 55 25 305681_compressedDLC_resnet50_madeline_july2Jul2shuffle1_100000_full_traces_inferences.npz',\n",
    "'/media/cat/4TBSSD/dan/march_2/madeline_dlc/march_16/traces_inferences/am/2020-3-16_06 55 40 714236_compressedDLC_resnet50_madeline_july2Jul2shuffle1_100000_full_traces_inferences.npz',\n",
    "'/media/cat/4TBSSD/dan/march_2/madeline_dlc/march_16/traces_inferences/am/2020-3-16_07_55_55_775234_compressedDLC_resnet50_madeline_july2Jul2shuffle1_100000_full_traces_inferences.npz',\n",
    "'/media/cat/4TBSSD/dan/march_2/madeline_dlc/march_16/traces_inferences/am/2020-3-16_08_56_11_096689_compressedDLC_resnet50_madeline_july2Jul2shuffle1_100000_full_traces_inferences.npz',\n",
    "'/media/cat/4TBSSD/dan/march_2/madeline_dlc/march_16/traces_inferences/am/2020-3-16_09 56 26 362091_compressedDLC_resnet50_madeline_july2Jul2shuffle1_100000_full_traces_inferences.npz',\n",
    "'/media/cat/4TBSSD/dan/march_2/madeline_dlc/march_16/traces_inferences/am/2020-3-16_10 56 41 406701_compressedDLC_resnet50_madeline_july2Jul2shuffle1_100000_full_traces_inferences.npz',\n",
    "'/media/cat/4TBSSD/dan/march_2/madeline_dlc/march_16/traces_inferences/am/2020-3-16_11_56_56_704655_compressedDLC_resnet50_madeline_july2Jul2shuffle1_100000_full_traces_inferences.npz',\n",
    "\n",
    "'/media/cat/4TBSSD/dan/march_2/madeline_dlc/march_16/traces_inferences/pm/2020-3-16_12 57 12 418305_compressedDLC_resnet50_madeline_july2Jul2shuffle1_100000_full_traces_inferences.npz',\n",
    "'/media/cat/4TBSSD/dan/march_2/madeline_dlc/march_16/traces_inferences/pm/2020-3-16_01_57_27_327194_compressedDLC_resnet50_madeline_july2Jul2shuffle1_100000_full_traces_inferences.npz',\n",
    "'/media/cat/4TBSSD/dan/march_2/madeline_dlc/march_16/traces_inferences/pm/2020-3-16_02 57 41 995158_compressedDLC_resnet50_madeline_july2Jul2shuffle1_100000_full_traces_inferences.npz',\n",
    "'/media/cat/4TBSSD/dan/march_2/madeline_dlc/march_16/traces_inferences/pm/2020-3-16_03_57_56_902379_compressedDLC_resnet50_madeline_july2Jul2shuffle1_100000_full_traces_inferences.npz',\n",
    "'/media/cat/4TBSSD/dan/march_2/madeline_dlc/march_16/traces_inferences/pm/2020-3-16_04_58_11_998956_compressedDLC_resnet50_madeline_july2Jul2shuffle1_100000_full_traces_inferences.npz',\n",
    "'/media/cat/4TBSSD/dan/march_2/madeline_dlc/march_16/traces_inferences/pm/2020-3-16_05 58 27 193818_compressedDLC_resnet50_madeline_july2Jul2shuffle1_100000_full_traces_inferences.npz',\n",
    "'/media/cat/4TBSSD/dan/march_2/madeline_dlc/march_16/traces_inferences/pm/2020-3-16_06 58 43 678014_compressedDLC_resnet50_madeline_july2Jul2shuffle1_100000_full_traces_inferences.npz',\n",
    "'/media/cat/4TBSSD/dan/march_2/madeline_dlc/march_16/traces_inferences/pm/2020-3-16_07_59_00_362242_compressedDLC_resnet50_madeline_july2Jul2shuffle1_100000_full_traces_inferences.npz',\n",
    "'/media/cat/4TBSSD/dan/march_2/madeline_dlc/march_16/traces_inferences/pm/2020-3-16_08_59_17_534732_compressedDLC_resnet50_madeline_july2Jul2shuffle1_100000_full_traces_inferences.npz',\n",
    "'/media/cat/4TBSSD/dan/march_2/madeline_dlc/march_16/traces_inferences/pm/2020-3-16_09_59_34_731308_compressedDLC_resnet50_madeline_july2Jul2shuffle1_100000_full_traces_inferences.npz',\n",
    "'/media/cat/4TBSSD/dan/march_2/madeline_dlc/march_16/traces_inferences/pm/2020-3-16_10_59_50_448686_compressedDLC_resnet50_madeline_july2Jul2shuffle1_100000_full_traces_inferences.npz',\n",
    "\n",
    "]"
   ]
  },
  {
   "cell_type": "code",
   "execution_count": 148,
   "metadata": {
    "scrolled": true
   },
   "outputs": [
    {
     "name": "stdout",
     "output_type": "stream",
     "text": [
      "Loading:  /media/cat/4TBSSD/dan/march_2/madeline_dlc/march_16/traces_inferences/am/2020-3-16_12_54_07_193951_compressedDLC_resnet50_madeline_july2Jul2shuffle1_100000_full_traces_inferences.npz (56, 89988)\n",
      "(56, 89988, 2)\n"
     ]
    },
    {
     "name": "stderr",
     "output_type": "stream",
     "text": [
      "/home/cat/.conda/envs/DLC-GPU/lib/python3.7/site-packages/ipykernel_launcher.py:56: RuntimeWarning: Mean of empty slice\n"
     ]
    },
    {
     "name": "stdout",
     "output_type": "stream",
     "text": [
      "Loading:  /media/cat/4TBSSD/dan/march_2/madeline_dlc/march_16/traces_inferences/am/2020-3-16_01_54_23_358257_compressedDLC_resnet50_madeline_july2Jul2shuffle1_100000_full_traces_inferences.npz (56, 89988)\n",
      "(56, 89988, 2)\n",
      "Loading:  /media/cat/4TBSSD/dan/march_2/madeline_dlc/march_16/traces_inferences/am/2020-3-16_02_54_39_170978_compressedDLC_resnet50_madeline_july2Jul2shuffle1_100000_full_traces_inferences.npz (56, 89987)\n",
      "(56, 89987, 2)\n",
      "Loading:  /media/cat/4TBSSD/dan/march_2/madeline_dlc/march_16/traces_inferences/am/2020-3-16_03 54 54 231226_compressedDLC_resnet50_madeline_july2Jul2shuffle1_100000_full_traces_inferences.npz (56, 89987)\n",
      "(56, 89987, 2)\n",
      "Loading:  /media/cat/4TBSSD/dan/march_2/madeline_dlc/march_16/traces_inferences/am/2020-3-16_04_55_09_841582_compressedDLC_resnet50_madeline_july2Jul2shuffle1_100000_full_traces_inferences.npz (56, 89989)\n",
      "(56, 89989, 2)\n",
      "Loading:  /media/cat/4TBSSD/dan/march_2/madeline_dlc/march_16/traces_inferences/am/2020-3-16_05 55 25 305681_compressedDLC_resnet50_madeline_july2Jul2shuffle1_100000_full_traces_inferences.npz (56, 89976)\n",
      "(56, 89976, 2)\n",
      "Loading:  /media/cat/4TBSSD/dan/march_2/madeline_dlc/march_16/traces_inferences/am/2020-3-16_06 55 40 714236_compressedDLC_resnet50_madeline_july2Jul2shuffle1_100000_full_traces_inferences.npz (56, 89988)\n",
      "(56, 89988, 2)\n",
      "Loading:  /media/cat/4TBSSD/dan/march_2/madeline_dlc/march_16/traces_inferences/am/2020-3-16_07_55_55_775234_compressedDLC_resnet50_madeline_july2Jul2shuffle1_100000_full_traces_inferences.npz (56, 89985)\n",
      "(56, 89985, 2)\n",
      "Loading:  /media/cat/4TBSSD/dan/march_2/madeline_dlc/march_16/traces_inferences/am/2020-3-16_08_56_11_096689_compressedDLC_resnet50_madeline_july2Jul2shuffle1_100000_full_traces_inferences.npz (56, 89988)\n",
      "(56, 89988, 2)\n",
      "Loading:  /media/cat/4TBSSD/dan/march_2/madeline_dlc/march_16/traces_inferences/am/2020-3-16_09 56 26 362091_compressedDLC_resnet50_madeline_july2Jul2shuffle1_100000_full_traces_inferences.npz (56, 89986)\n",
      "(56, 89986, 2)\n",
      "Loading:  /media/cat/4TBSSD/dan/march_2/madeline_dlc/march_16/traces_inferences/am/2020-3-16_10 56 41 406701_compressedDLC_resnet50_madeline_july2Jul2shuffle1_100000_full_traces_inferences.npz (56, 89988)\n",
      "(56, 89988, 2)\n",
      "Loading:  /media/cat/4TBSSD/dan/march_2/madeline_dlc/march_16/traces_inferences/am/2020-3-16_11_56_56_704655_compressedDLC_resnet50_madeline_july2Jul2shuffle1_100000_full_traces_inferences.npz (56, 89986)\n",
      "(56, 89986, 2)\n",
      "Loading:  /media/cat/4TBSSD/dan/march_2/madeline_dlc/march_16/traces_inferences/pm/2020-3-16_12 57 12 418305_compressedDLC_resnet50_madeline_july2Jul2shuffle1_100000_full_traces_inferences.npz (56, 89989)\n",
      "(56, 89989, 2)\n",
      "Loading:  /media/cat/4TBSSD/dan/march_2/madeline_dlc/march_16/traces_inferences/pm/2020-3-16_01_57_27_327194_compressedDLC_resnet50_madeline_july2Jul2shuffle1_100000_full_traces_inferences.npz (56, 89988)\n",
      "(56, 89988, 2)\n",
      "Loading:  /media/cat/4TBSSD/dan/march_2/madeline_dlc/march_16/traces_inferences/pm/2020-3-16_02 57 41 995158_compressedDLC_resnet50_madeline_july2Jul2shuffle1_100000_full_traces_inferences.npz (56, 89989)\n",
      "(56, 89989, 2)\n",
      "Loading:  /media/cat/4TBSSD/dan/march_2/madeline_dlc/march_16/traces_inferences/pm/2020-3-16_03_57_56_902379_compressedDLC_resnet50_madeline_july2Jul2shuffle1_100000_full_traces_inferences.npz (56, 89989)\n",
      "(56, 89989, 2)\n",
      "Loading:  /media/cat/4TBSSD/dan/march_2/madeline_dlc/march_16/traces_inferences/pm/2020-3-16_04_58_11_998956_compressedDLC_resnet50_madeline_july2Jul2shuffle1_100000_full_traces_inferences.npz (56, 89989)\n",
      "(56, 89989, 2)\n",
      "Loading:  /media/cat/4TBSSD/dan/march_2/madeline_dlc/march_16/traces_inferences/pm/2020-3-16_05 58 27 193818_compressedDLC_resnet50_madeline_july2Jul2shuffle1_100000_full_traces_inferences.npz (56, 89988)\n",
      "(56, 89988, 2)\n",
      "Loading:  /media/cat/4TBSSD/dan/march_2/madeline_dlc/march_16/traces_inferences/pm/2020-3-16_06 58 43 678014_compressedDLC_resnet50_madeline_july2Jul2shuffle1_100000_full_traces_inferences.npz (56, 89988)\n",
      "(56, 89988, 2)\n",
      "Loading:  /media/cat/4TBSSD/dan/march_2/madeline_dlc/march_16/traces_inferences/pm/2020-3-16_07_59_00_362242_compressedDLC_resnet50_madeline_july2Jul2shuffle1_100000_full_traces_inferences.npz (56, 89988)\n",
      "(56, 89988, 2)\n",
      "Loading:  /media/cat/4TBSSD/dan/march_2/madeline_dlc/march_16/traces_inferences/pm/2020-3-16_08_59_17_534732_compressedDLC_resnet50_madeline_july2Jul2shuffle1_100000_full_traces_inferences.npz (56, 89989)\n",
      "(56, 89989, 2)\n",
      "Loading:  /media/cat/4TBSSD/dan/march_2/madeline_dlc/march_16/traces_inferences/pm/2020-3-16_09_59_34_731308_compressedDLC_resnet50_madeline_july2Jul2shuffle1_100000_full_traces_inferences.npz (56, 89989)\n",
      "(56, 89989, 2)\n",
      "Loading:  /media/cat/4TBSSD/dan/march_2/madeline_dlc/march_16/traces_inferences/pm/2020-3-16_10_59_50_448686_compressedDLC_resnet50_madeline_july2Jul2shuffle1_100000_full_traces_inferences.npz (56, 89988)\n",
      "(56, 89988, 2)\n"
     ]
    }
   ],
   "source": [
    "# plot time series\n",
    "clrs = ['red','blue','cyan','green']\n",
    "from scipy.ndimage import gaussian_filter1d\n",
    "from scipy import interpolate\n",
    "\n",
    "window = 25 * 300 # seconds\n",
    "#ax=plt.subplot(1,1,1)\n",
    "ctr=0\n",
    "fig=plt.figure()\n",
    "sums_array = []\n",
    "for fname in fnames:\n",
    "#for fname in fnames[:2]:\n",
    "\n",
    "    data = np.load(fname)\n",
    "    tracesx = data['tracesx']\n",
    "    tracesy = data['tracesy']\n",
    "    print (\"Loading: \", fname, tracesx.shape)\n",
    "\n",
    "    traces = np.zeros((tracesx.shape[0],tracesx.shape[1],2),'float32')\n",
    "    traces[:,:,0]=tracesx\n",
    "    traces[:,:,1]=tracesy\n",
    "\n",
    "    idx = np.where(traces==0)\n",
    "    traces[idx]=np.nan\n",
    "\n",
    "#     # find bad values in the data and zero them out\n",
    "#     # to do in the future;\n",
    "#     if False:\n",
    "#         print (traces.shape)\n",
    "#         #print (traces[:14,3500:3510,0])\n",
    "#         #print (traces[:14,3500:3501,:])\n",
    "#         print (np.nanmean(traces[:14,3500:3501,:]))\n",
    "#         #print (traces[:14,3501:3502,:])\n",
    "#         print (np.nanmean(traces[:14,3501:3502,:]))\n",
    "\n",
    "#         bad_val = 171.416\n",
    "#         idx_bad = np.where(traces[0,:,0]==bad_val)\n",
    "#         print (idx_bad)\n",
    "#         traces[:14,idx_bad]=np.nan\n",
    "\n",
    "    # Load trace info\n",
    "    sums=np.zeros(traces.shape[1]-1,'float32')\n",
    "    for p in range(4):\n",
    "        locs = np.nanmean(np.nanmean(np.abs(traces[p*14: (p+1)*14,:,:]),2),0)\n",
    "        x = np.where(np.isnan(locs)==False)[0]\n",
    "        \n",
    "        # fill in missing data with linear interpolation\n",
    "        f = interpolate.interp1d(x, locs[x])\n",
    "        xnew = np.arange(x[0],x[-1]+1,1)\n",
    "        ynew = f(xnew)   # use interpolation function returned by `interp1d`\n",
    "        #plt.plot(xnew/25.+ctr*3600, ynew )\n",
    "\n",
    "        # compute differences as movement\n",
    "        ynew = np.abs(ynew[1:]-ynew[:-1])\n",
    "\n",
    "        # much slower method for smoothing online\n",
    "        if False:\n",
    "            ynew = gaussian_filter1d(ynew, window)\n",
    "            \n",
    "        # instead, just grab all the data and reprocess it below\n",
    "        sums[xnew[:ynew.shape[0]]]+=ynew*10\n",
    "\n",
    "    \n",
    "    sums_array.append(sums)\n",
    "    ctr+=1\n"
   ]
  },
  {
   "cell_type": "code",
   "execution_count": 147,
   "metadata": {},
   "outputs": [
    {
     "name": "stdout",
     "output_type": "stream",
     "text": [
      "89987\n",
      "(2069687,)\n",
      "smotthing\n"
     ]
    }
   ],
   "source": [
    "# MAKE BEHAVIOUR CYCLE PLOTS\n",
    "\n",
    "ynew = np.hstack(sums_array)\n",
    "window = 25*600\n",
    "\n",
    "ax=plt.subplot(1,1,1)\n",
    "ynew = np.convolve(ynew, np.ones((window,))/window, mode='valid')\n",
    "t = np.arange(ynew.shape[0])/25.+1*3600\n",
    "plt.plot(t, ynew, linewidth=1, c='blue')\n",
    "\n",
    "# label information\n",
    "plt.ylabel(\"Activity\", fontsize=30)\n",
    "plt.yticks([0],fontsize=30)\n",
    "xticks_old = np.arange(0*3600,3600*24, 3600)\n",
    "xticks_new = np.arange(24)\n",
    "plt.xticks(xticks_old,xticks_new,fontsize=30)\n",
    "plt.xlabel(\"Time of Day (24hrs clock)\",fontsize=30)\n",
    "ax.axvspan(0, 7*3600, alpha=0.1, color='black')\n",
    "ax.axvspan(19*3600,24*3600, alpha=0.1, color='black')\n",
    "plt.xlim(0,24*3600)\n",
    "plt.ylim(bottom=0)\n",
    "plt.suptitle(\"Movement analysis for Cohort #1 - March 16\\n(10min smoothing window)\",fontsize=25)\n",
    "plt.show()\n",
    "    "
   ]
  },
  {
   "cell_type": "code",
   "execution_count": null,
   "metadata": {},
   "outputs": [],
   "source": []
  },
  {
   "cell_type": "code",
   "execution_count": null,
   "metadata": {},
   "outputs": [],
   "source": []
  }
 ],
 "metadata": {
  "kernelspec": {
   "display_name": "Python 3",
   "language": "python",
   "name": "python3"
  },
  "language_info": {
   "codemirror_mode": {
    "name": "ipython",
    "version": 3
   },
   "file_extension": ".py",
   "mimetype": "text/x-python",
   "name": "python",
   "nbconvert_exporter": "python",
   "pygments_lexer": "ipython3",
   "version": "3.7.7"
  }
 },
 "nbformat": 4,
 "nbformat_minor": 4
}
